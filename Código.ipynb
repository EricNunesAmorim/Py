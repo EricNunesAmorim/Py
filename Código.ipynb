{
  "nbformat": 4,
  "nbformat_minor": 0,
  "metadata": {
    "colab": {
      "provenance": [],
      "authorship_tag": "ABX9TyMsTy5txXltlnlJIrTdBw0K",
      "include_colab_link": true
    },
    "kernelspec": {
      "name": "python3",
      "display_name": "Python 3"
    },
    "language_info": {
      "name": "python"
    }
  },
  "cells": [
    {
      "cell_type": "markdown",
      "metadata": {
        "id": "view-in-github",
        "colab_type": "text"
      },
      "source": [
        "<a href=\"https://colab.research.google.com/github/EricNunesAmorim/Py/blob/main/C%C3%B3digo.ipynb\" target=\"_parent\"><img src=\"https://colab.research.google.com/assets/colab-badge.svg\" alt=\"Open In Colab\"/></a>"
      ]
    },
    {
      "cell_type": "code",
      "execution_count": null,
      "metadata": {
        "id": "4Wl9nbTG2Nlg"
      },
      "outputs": [],
      "source": [
        "import math\n",
        "'''Programa para calcular quanto está sendo roubado de créditos de carbono na amazonia'''\n",
        "while True:\n",
        "  print('''\n",
        "      CALCULO PARA REPOSIÇÃO DE DESMATAMENTO\n",
        "  ''')\n",
        "\n",
        "  print('''  ===================================\n",
        "  |       1 - Um hectare            |\n",
        "  |       2 - Cinco hectares        |\n",
        "  |       3 - Dez hectares          |\n",
        "  |       4 - Cinquenta Hectares    |\n",
        "  |       5 - Cem Hectares          |\n",
        "  ===================================\n",
        "  ''')\n",
        "  opcarvore = int(input(\"Digite uma opção de quantia de arvores para calcular: \"))\n",
        "  if opcarvore == 1:\n",
        "      co2 = 734.5\n",
        "  elif opcarvore == 2:\n",
        "      co2 = 3672.5\n",
        "  elif opcarvore == 3:\n",
        "      co2 = 7345\n",
        "  elif opcarvore == 4:\n",
        "      co2 = 36725\n",
        "  elif opcarvore == 5:\n",
        "      co2 = 73450\n",
        "  idadearvore = int(input(\"Qual a idade das arvores desmatadas em média? (em meses): \"))\n",
        "  if opcarvore == 1:\n",
        "      qtdarvore = 565\n",
        "  elif opcarvore == 2:\n",
        "      qtdarvore = 5 * 565\n",
        "  elif opcarvore == 3:\n",
        "      qtdarvore = 10 * 565\n",
        "  elif opcarvore == 4:\n",
        "      qtdarvore = 50 * 565\n",
        "  elif opcarvore == 5:\n",
        "      qtdarvore = 100 * 565\n",
        "  roubototal = math.floor(co2 * idadearvore)\n",
        "  roubocredito = math.floor(roubototal/1000)\n",
        "  arvdesmatadas = int(input(\"Quantas árvores foram desmatadas em média? :\"))\n",
        "  arvdiferença = qtdarvore - arvdesmatadas\n",
        "  metacredito = int(input(\"Qual a meta da sua empresa em créditos de carbono?: \"))\n",
        "  dividacredito = metacredito - roubocredito\n",
        "  print (f\"as {arvdiferença:,} arvores roubaram {roubototal:,} kg co² no total e conseguiram {roubocredito:.0f} créditos de carbono, mas ainda faltam {dividacredito:.0f}\")\n",
        "  x = input('Voce deseja fazer outra consulta? [S] / [N]: ')\n",
        "  if x == \"N\":\n",
        "    break\n",
        "  else:\n",
        "    continue\n",
        "print ('''============================\n",
        "|  Você saiu do programa.  |\n",
        "============================''')"
      ]
    }
  ]
}