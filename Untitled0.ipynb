{
  "nbformat": 4,
  "nbformat_minor": 0,
  "metadata": {
    "colab": {
      "provenance": [],
      "authorship_tag": "ABX9TyMsTy5txXltlnlJIrTdBw0K",
      "include_colab_link": true
    },
    "kernelspec": {
      "name": "python3",
      "display_name": "Python 3"
    },
    "language_info": {
      "name": "python"
    }
  },
  "cells": [
    {
      "cell_type": "markdown",
      "metadata": {
        "id": "view-in-github",
        "colab_type": "text"
      },
      "source": [
        "<a href=\"https://colab.research.google.com/github/EricNunesAmorim/Py/blob/main/Untitled0.ipynb\" target=\"_parent\"><img src=\"https://colab.research.google.com/assets/colab-badge.svg\" alt=\"Open In Colab\"/></a>"
      ]
    },
    {
      "cell_type": "code",
      "execution_count": 1,
      "metadata": {
        "colab": {
          "base_uri": "https://localhost:8080/",
          "height": 455
        },
        "id": "H_syQukr0-Ww",
        "outputId": "88876188-e0bc-4497-b6ca-cc0facd3a162"
      },
      "outputs": [
        {
          "name": "stdout",
          "output_type": "stream",
          "text": [
            "\n",
            "      CALCULO PARA REPOSIÇÃO DE DESMATAMENTO\n",
            "  \n",
            "  ===================================\n",
            "  |       1 - Um hectare            |\n",
            "  |       2 - Cinco hectares        |\n",
            "  |       3 - Dez hectares          |\n",
            "  |       4 - Cinquenta Hectares    |\n",
            "  |       5 - Cem Hectares          |\n",
            "  ===================================\n",
            "  \n",
            "Digite uma opção de quantia de arvores para calcular: a\n"
          ]
        },
        {
          "output_type": "error",
          "ename": "ValueError",
          "evalue": "ignored",
          "traceback": [
            "\u001b[0;31m---------------------------------------------------------------------------\u001b[0m",
            "\u001b[0;31mValueError\u001b[0m                                Traceback (most recent call last)",
            "\u001b[0;32m<ipython-input-1-fbee8d6db3fd>\u001b[0m in \u001b[0;36m<cell line: 3>\u001b[0;34m()\u001b[0m\n\u001b[1;32m     14\u001b[0m   \u001b[0;34m==\u001b[0m\u001b[0;34m==\u001b[0m\u001b[0;34m==\u001b[0m\u001b[0;34m==\u001b[0m\u001b[0;34m==\u001b[0m\u001b[0;34m==\u001b[0m\u001b[0;34m==\u001b[0m\u001b[0;34m==\u001b[0m\u001b[0;34m==\u001b[0m\u001b[0;34m==\u001b[0m\u001b[0;34m==\u001b[0m\u001b[0;34m==\u001b[0m\u001b[0;34m==\u001b[0m\u001b[0;34m==\u001b[0m\u001b[0;34m==\u001b[0m\u001b[0;34m==\u001b[0m\u001b[0;34m==\u001b[0m\u001b[0;34m=\u001b[0m\u001b[0;34m\u001b[0m\u001b[0;34m\u001b[0m\u001b[0m\n\u001b[1;32m     15\u001b[0m   ''')\n\u001b[0;32m---> 16\u001b[0;31m   \u001b[0mopcarvore\u001b[0m \u001b[0;34m=\u001b[0m \u001b[0mint\u001b[0m\u001b[0;34m(\u001b[0m\u001b[0minput\u001b[0m\u001b[0;34m(\u001b[0m\u001b[0;34m\"Digite uma opção de quantia de arvores para calcular: \"\u001b[0m\u001b[0;34m)\u001b[0m\u001b[0;34m)\u001b[0m\u001b[0;34m\u001b[0m\u001b[0;34m\u001b[0m\u001b[0m\n\u001b[0m\u001b[1;32m     17\u001b[0m   \u001b[0;32mif\u001b[0m \u001b[0mopcarvore\u001b[0m \u001b[0;34m==\u001b[0m \u001b[0;36m1\u001b[0m\u001b[0;34m:\u001b[0m\u001b[0;34m\u001b[0m\u001b[0;34m\u001b[0m\u001b[0m\n\u001b[1;32m     18\u001b[0m       \u001b[0mco2\u001b[0m \u001b[0;34m=\u001b[0m \u001b[0;36m734.5\u001b[0m\u001b[0;34m\u001b[0m\u001b[0;34m\u001b[0m\u001b[0m\n",
            "\u001b[0;31mValueError\u001b[0m: invalid literal for int() with base 10: 'a'"
          ]
        }
      ],
      "source": [
        "import math\n",
        "'''Programa para calcular quanto está sendo roubado de créditos de carbono na amazonia'''\n",
        "while True:\n",
        "  print('''\n",
        "      CALCULO PARA REPOSIÇÃO DE DESMATAMENTO\n",
        "  ''')\n",
        "\n",
        "  print('''  ===================================\n",
        "  |       1 - Um hectare            |\n",
        "  |       2 - Cinco hectares        |\n",
        "  |       3 - Dez hectares          |\n",
        "  |       4 - Cinquenta Hectares    |\n",
        "  |       5 - Cem Hectares          |\n",
        "  ===================================\n",
        "  ''')\n",
        "  opcarvore = int(input(\"Digite uma opção de quantia de arvores para calcular: \"))\n",
        "  if opcarvore == 1:\n",
        "      co2 = 734.5\n",
        "  elif opcarvore == 2:\n",
        "      co2 = 3672.5\n",
        "  elif opcarvore == 3:\n",
        "      co2 = 7345\n",
        "  elif opcarvore == 4:\n",
        "      co2 = 36725\n",
        "  elif opcarvore == 5:\n",
        "      co2 = 73450\n",
        "  idadearvore = int(input(\"Qual a idade das arvores desmatadas em média? (em meses): \"))\n",
        "  if opcarvore == 1:\n",
        "      qtdarvore = 565\n",
        "  elif opcarvore == 2:\n",
        "      qtdarvore = 5 * 565\n",
        "  elif opcarvore == 3:\n",
        "      qtdarvore = 10 * 565\n",
        "  elif opcarvore == 4:\n",
        "      qtdarvore = 50 * 565\n",
        "  elif opcarvore == 5:\n",
        "      qtdarvore = 100 * 565\n",
        "  roubototal = math.floor(co2 * idadearvore)\n",
        "  roubocredito = math.floor(roubototal/1000)\n",
        "  arvdesmatadas = int(input(\"Quantas árvores foram desmatadas em média? :\"))\n",
        "  arvdiferença = qtdarvore - arvdesmatadas\n",
        "  metacredito = int(input(\"Qual a meta da sua empresa em créditos de carbono?: \"))\n",
        "  dividacredito = metacredito - roubocredito\n",
        "  print (f\"as {arvdiferença:,} arvores roubaram {roubototal:,} kg co² no total e conseguiram {roubocredito:.0f} créditos de carbono, mas ainda faltam {dividacredito:.0f}\")\n",
        "  x = input('Voce deseja fazer outra consulta? [S] / [N]: ')\n",
        "  if x == \"N\":\n",
        "    break\n",
        "  else:\n",
        "    continue\n",
        "print ('''============================\n",
        "|  Você saiu do programa.  |\n",
        "============================''')"
      ]
    }
  ]
}